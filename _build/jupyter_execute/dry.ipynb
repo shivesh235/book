{
 "cells": [
  {
   "cell_type": "markdown",
   "id": "7ea56a40-6b34-473f-985b-134361638921",
   "metadata": {},
   "source": [
    "8.30 wakeup, breakfast, 10. sleep, 2. wake, bath, Ng, 5.15 snacks, 6. code\n",
    "\n",
    "todo\n",
    "lab, code, tf, adn\n",
    "\n",
    "todo\n",
    "tf, ang, adn, dataset, lab"
   ]
  },
  {
   "cell_type": "code",
   "execution_count": null,
   "id": "8bcfc3f9-ece4-43a1-b3da-1ca3deb2dff8",
   "metadata": {},
   "outputs": [],
   "source": []
  }
 ],
 "metadata": {
  "kernelspec": {
   "display_name": "Python 3 (ipykernel)",
   "language": "python",
   "name": "python3"
  },
  "language_info": {
   "codemirror_mode": {
    "name": "ipython",
    "version": 3
   },
   "file_extension": ".py",
   "mimetype": "text/x-python",
   "name": "python",
   "nbconvert_exporter": "python",
   "pygments_lexer": "ipython3",
   "version": "3.11.7"
  }
 },
 "nbformat": 4,
 "nbformat_minor": 5
}