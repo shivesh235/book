{
 "cells": [
  {
   "cell_type": "markdown",
   "id": "1a74a883-3f35-472d-9ea5-123818cc8dbf",
   "metadata": {},
   "source": [
    "# Deep Learning Notes"
   ]
  },
  {
   "cell_type": "markdown",
   "id": "756180fb-0ed8-4d6e-ba31-c2e6dcacb760",
   "metadata": {},
   "source": [
    "## Linear Equation in matrix form\n",
    "\n",
    "- y = mx + c  `or` $w_0 + w_1 x_1 + w_2 x_2 = 0$  `or` $w^T x = 0$\n",
    "---\n",
    "\n",
    "- Derivative (rate of change of y w.r.t x) --> Sensitivity w.r.t value of y\n",
    "---\n",
    "\n",
    "- Given a point and a line to know which side of the line the point($x_1, y_1$) lies\n",
    "      $$y_1 - m x_1 - c >= 0 \\text{  or  } y_1 - m x_1 - c < 0$$\n",
    "---\n",
    "\n",
    "- Function --> Mapping of input and output\n",
    "  \n",
    "  1D function ploted in 3D and derivative exist for one direction\n",
    "  \n",
    "  2D function plotted in 3D and derivative exist for two directions\n",
    "---\n",
    "\n",
    "- Optimization (minimize or maximize a funtion)\n",
    "\n",
    "  Find critical points (differentiate w.r.t input parameters) (for closed form)\n",
    "\n",
    "  $w^* = argmin_w (F)$\n",
    "\n",
    "  For Discreate case compute gradients analyticaly\n",
    "\n",
    "  Gradient Descent iterative algorithm\n",
    "\n",
    "  - Initialize w vector randomly\n",
    "  - Simultaneously update $w_i = w_i + \\Delta w_i$\n",
    "  - Each w vector can be seen as hyper plane in data space and as point in parametric space\n",
    "---\n",
    "\n",
    "- Problem of Binary Classification\n",
    "\n",
    "  - Feature Selection --> ask relevent questions based on problem statement\n",
    "  - Point in N-D data space is obtained\n",
    "  - Feature Extraction --> Project data points such that separaton between two points is maximum\n",
    "  - \n",
    "      "
   ]
  },
  {
   "cell_type": "code",
   "execution_count": null,
   "id": "778ec6fb-87b0-45e7-bd93-452db4d9ec8b",
   "metadata": {},
   "outputs": [],
   "source": []
  }
 ],
 "metadata": {
  "kernelspec": {
   "display_name": "Python 3 (ipykernel)",
   "language": "python",
   "name": "python3"
  },
  "language_info": {
   "codemirror_mode": {
    "name": "ipython",
    "version": 3
   },
   "file_extension": ".py",
   "mimetype": "text/x-python",
   "name": "python",
   "nbconvert_exporter": "python",
   "pygments_lexer": "ipython3",
   "version": "3.11.7"
  }
 },
 "nbformat": 4,
 "nbformat_minor": 5
}